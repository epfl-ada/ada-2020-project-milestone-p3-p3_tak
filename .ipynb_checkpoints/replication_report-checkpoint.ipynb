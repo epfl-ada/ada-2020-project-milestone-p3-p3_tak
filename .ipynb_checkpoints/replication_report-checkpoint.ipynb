{
 "cells": [
  {
   "cell_type": "markdown",
   "metadata": {},
   "source": [
    "# P2 Milestone: Predictig the present"
   ]
  },
  {
   "cell_type": "code",
   "execution_count": 1,
   "metadata": {},
   "outputs": [],
   "source": [
    "\n",
    "import pandas as pd\n",
    "import numpy as np\n",
    "import statsmodels.api as sm\n",
    "from statsmodels.tsa.ar_model import AutoReg\n",
    "from sklearn.metrics import mean_absolute_error\n",
    "import warnings\n",
    "\n",
    "warnings.filterwarnings(\"ignore\") # While fitting AR model we obtain warnings to ignore"
   ]
  },
  {
   "cell_type": "markdown",
   "metadata": {},
   "source": [
    "## Loading data"
   ]
  },
  {
   "cell_type": "code",
   "execution_count": 2,
   "metadata": {},
   "outputs": [
    {
     "data": {
      "text/html": [
       "<div>\n",
       "<style scoped>\n",
       "    .dataframe tbody tr th:only-of-type {\n",
       "        vertical-align: middle;\n",
       "    }\n",
       "\n",
       "    .dataframe tbody tr th {\n",
       "        vertical-align: top;\n",
       "    }\n",
       "\n",
       "    .dataframe thead th {\n",
       "        text-align: right;\n",
       "    }\n",
       "</style>\n",
       "<table border=\"1\" class=\"dataframe\">\n",
       "  <thead>\n",
       "    <tr style=\"text-align: right;\">\n",
       "      <th></th>\n",
       "      <th>sales</th>\n",
       "      <th>suvs</th>\n",
       "      <th>insurance</th>\n",
       "    </tr>\n",
       "    <tr>\n",
       "      <th>Period</th>\n",
       "      <th></th>\n",
       "      <th></th>\n",
       "      <th></th>\n",
       "    </tr>\n",
       "  </thead>\n",
       "  <tbody>\n",
       "    <tr>\n",
       "      <th>2004-01-01</th>\n",
       "      <td>11.023323</td>\n",
       "      <td>0.00</td>\n",
       "      <td>0.00</td>\n",
       "    </tr>\n",
       "    <tr>\n",
       "      <th>2004-02-01</th>\n",
       "      <td>11.087987</td>\n",
       "      <td>-0.12</td>\n",
       "      <td>-0.01</td>\n",
       "    </tr>\n",
       "    <tr>\n",
       "      <th>2004-03-01</th>\n",
       "      <td>11.275214</td>\n",
       "      <td>-0.05</td>\n",
       "      <td>-0.09</td>\n",
       "    </tr>\n",
       "    <tr>\n",
       "      <th>2004-04-01</th>\n",
       "      <td>11.203979</td>\n",
       "      <td>-0.12</td>\n",
       "      <td>-0.08</td>\n",
       "    </tr>\n",
       "    <tr>\n",
       "      <th>2004-05-01</th>\n",
       "      <td>11.260121</td>\n",
       "      <td>-0.07</td>\n",
       "      <td>-0.07</td>\n",
       "    </tr>\n",
       "    <tr>\n",
       "      <th>...</th>\n",
       "      <td>...</td>\n",
       "      <td>...</td>\n",
       "      <td>...</td>\n",
       "    </tr>\n",
       "    <tr>\n",
       "      <th>2011-03-01</th>\n",
       "      <td>11.238252</td>\n",
       "      <td>-0.03</td>\n",
       "      <td>-0.19</td>\n",
       "    </tr>\n",
       "    <tr>\n",
       "      <th>2011-04-01</th>\n",
       "      <td>11.161437</td>\n",
       "      <td>-0.08</td>\n",
       "      <td>-0.20</td>\n",
       "    </tr>\n",
       "    <tr>\n",
       "      <th>2011-05-01</th>\n",
       "      <td>11.157250</td>\n",
       "      <td>-0.16</td>\n",
       "      <td>-0.22</td>\n",
       "    </tr>\n",
       "    <tr>\n",
       "      <th>2011-06-01</th>\n",
       "      <td>11.166865</td>\n",
       "      <td>-0.12</td>\n",
       "      <td>-0.16</td>\n",
       "    </tr>\n",
       "    <tr>\n",
       "      <th>2011-07-01</th>\n",
       "      <td>11.154964</td>\n",
       "      <td>-0.10</td>\n",
       "      <td>-0.17</td>\n",
       "    </tr>\n",
       "  </tbody>\n",
       "</table>\n",
       "<p>91 rows × 3 columns</p>\n",
       "</div>"
      ],
      "text/plain": [
       "                sales  suvs  insurance\n",
       "Period                                \n",
       "2004-01-01  11.023323  0.00       0.00\n",
       "2004-02-01  11.087987 -0.12      -0.01\n",
       "2004-03-01  11.275214 -0.05      -0.09\n",
       "2004-04-01  11.203979 -0.12      -0.08\n",
       "2004-05-01  11.260121 -0.07      -0.07\n",
       "...               ...   ...        ...\n",
       "2011-03-01  11.238252 -0.03      -0.19\n",
       "2011-04-01  11.161437 -0.08      -0.20\n",
       "2011-05-01  11.157250 -0.16      -0.22\n",
       "2011-06-01  11.166865 -0.12      -0.16\n",
       "2011-07-01  11.154964 -0.10      -0.17\n",
       "\n",
       "[91 rows x 3 columns]"
      ]
     },
     "execution_count": 2,
     "metadata": {},
     "output_type": "execute_result"
    }
   ],
   "source": [
    "# Loading and processing data\n",
    "df=pd.read_csv(r\".\\merged_autos.csv\")\n",
    "df['Period'] = pd.to_datetime(df['Period'])\n",
    "df.set_index('Period',inplace=True)\n",
    "df['sales'] = np.log(df['sales'])\n",
    "df"
   ]
  },
  {
   "cell_type": "markdown",
   "metadata": {},
   "source": [
    "## Overall AR model fit"
   ]
  },
  {
   "cell_type": "markdown",
   "metadata": {},
   "source": [
    "### Overall Base model"
   ]
  },
  {
   "cell_type": "markdown",
   "metadata": {},
   "source": [
    "The base model is an AR model with Lags 1 and 12.\n",
    "The AutoReg package is used to fit the model"
   ]
  },
  {
   "cell_type": "code",
   "execution_count": 3,
   "metadata": {},
   "outputs": [
    {
     "data": {
      "text/html": [
       "<table class=\"simpletable\">\n",
       "<caption>AutoReg Model Results</caption>\n",
       "<tr>\n",
       "  <th>Dep. Variable:</th>        <td>sales</td>       <th>  No. Observations:  </th>   <td>91</td>  \n",
       "</tr>\n",
       "<tr>\n",
       "  <th>Model:</th>         <td>Restr. AutoReg(12)</td> <th>  Log Likelihood     </th> <td>89.115</td>\n",
       "</tr>\n",
       "<tr>\n",
       "  <th>Method:</th>          <td>Conditional MLE</td>  <th>  S.D. of innovations</th>  <td>0.078</td>\n",
       "</tr>\n",
       "<tr>\n",
       "  <th>Date:</th>           <td>Fri, 06 Nov 2020</td>  <th>  AIC                </th> <td>-4.993</td>\n",
       "</tr>\n",
       "<tr>\n",
       "  <th>Time:</th>               <td>16:24:31</td>      <th>  BIC                </th> <td>-4.873</td>\n",
       "</tr>\n",
       "<tr>\n",
       "  <th>Sample:</th>            <td>01-01-2005</td>     <th>  HQIC               </th> <td>-4.945</td>\n",
       "</tr>\n",
       "<tr>\n",
       "  <th></th>                  <td>- 07-01-2011</td>    <th>                     </th>    <td> </td>  \n",
       "</tr>\n",
       "</table>\n",
       "<table class=\"simpletable\">\n",
       "<tr>\n",
       "      <td></td>         <th>coef</th>     <th>std err</th>      <th>z</th>      <th>P>|z|</th>  <th>[0.025</th>    <th>0.975]</th>  \n",
       "</tr>\n",
       "<tr>\n",
       "  <th>intercept</th> <td>    0.6727</td> <td>    0.749</td> <td>    0.898</td> <td> 0.369</td> <td>   -0.795</td> <td>    2.141</td>\n",
       "</tr>\n",
       "<tr>\n",
       "  <th>sales.L1</th>  <td>    0.6435</td> <td>    0.072</td> <td>    8.948</td> <td> 0.000</td> <td>    0.503</td> <td>    0.784</td>\n",
       "</tr>\n",
       "<tr>\n",
       "  <th>sales.L12</th> <td>    0.2957</td> <td>    0.071</td> <td>    4.139</td> <td> 0.000</td> <td>    0.156</td> <td>    0.436</td>\n",
       "</tr>\n",
       "</table>\n",
       "<table class=\"simpletable\">\n",
       "<caption>Roots</caption>\n",
       "<tr>\n",
       "    <td></td>    <th>            Real</th>  <th>         Imaginary</th> <th>         Modulus</th>  <th>        Frequency</th>\n",
       "</tr>\n",
       "<tr>\n",
       "  <th>AR.1</th>  <td>           1.0136</td> <td>          -0.0000j</td> <td>           1.0136</td> <td>          -0.0000</td>\n",
       "</tr>\n",
       "<tr>\n",
       "  <th>AR.2</th>  <td>           0.9322</td> <td>          -0.4728j</td> <td>           1.0452</td> <td>          -0.0747</td>\n",
       "</tr>\n",
       "<tr>\n",
       "  <th>AR.3</th>  <td>           0.9322</td> <td>          +0.4728j</td> <td>           1.0452</td> <td>           0.0747</td>\n",
       "</tr>\n",
       "<tr>\n",
       "  <th>AR.4</th>  <td>           0.6048</td> <td>          -0.9087j</td> <td>           1.0915</td> <td>          -0.1565</td>\n",
       "</tr>\n",
       "<tr>\n",
       "  <th>AR.5</th>  <td>           0.6048</td> <td>          +0.9087j</td> <td>           1.0915</td> <td>           0.1565</td>\n",
       "</tr>\n",
       "<tr>\n",
       "  <th>AR.6</th>  <td>           0.0603</td> <td>          -1.1224j</td> <td>           1.1240</td> <td>          -0.2415</td>\n",
       "</tr>\n",
       "<tr>\n",
       "  <th>AR.7</th>  <td>           0.0603</td> <td>          +1.1224j</td> <td>           1.1240</td> <td>           0.2415</td>\n",
       "</tr>\n",
       "<tr>\n",
       "  <th>AR.8</th>  <td>          -0.5346</td> <td>          -1.0120j</td> <td>           1.1445</td> <td>          -0.3273</td>\n",
       "</tr>\n",
       "<tr>\n",
       "  <th>AR.9</th>  <td>          -0.5346</td> <td>          +1.0120j</td> <td>           1.1445</td> <td>           0.3273</td>\n",
       "</tr>\n",
       "<tr>\n",
       "  <th>AR.10</th> <td>          -1.1595</td> <td>          -0.0000j</td> <td>           1.1595</td> <td>          -0.5000</td>\n",
       "</tr>\n",
       "<tr>\n",
       "  <th>AR.11</th> <td>          -0.9897</td> <td>          -0.5971j</td> <td>           1.1559</td> <td>          -0.4136</td>\n",
       "</tr>\n",
       "<tr>\n",
       "  <th>AR.12</th> <td>          -0.9897</td> <td>          +0.5971j</td> <td>           1.1559</td> <td>           0.4136</td>\n",
       "</tr>\n",
       "</table>"
      ],
      "text/plain": [
       "<class 'statsmodels.iolib.summary.Summary'>\n",
       "\"\"\"\n",
       "                            AutoReg Model Results                             \n",
       "==============================================================================\n",
       "Dep. Variable:                  sales   No. Observations:                   91\n",
       "Model:             Restr. AutoReg(12)   Log Likelihood                  89.115\n",
       "Method:               Conditional MLE   S.D. of innovations              0.078\n",
       "Date:                Fri, 06 Nov 2020   AIC                             -4.993\n",
       "Time:                        16:24:31   BIC                             -4.873\n",
       "Sample:                    01-01-2005   HQIC                            -4.945\n",
       "                         - 07-01-2011                                         \n",
       "==============================================================================\n",
       "                 coef    std err          z      P>|z|      [0.025      0.975]\n",
       "------------------------------------------------------------------------------\n",
       "intercept      0.6727      0.749      0.898      0.369      -0.795       2.141\n",
       "sales.L1       0.6435      0.072      8.948      0.000       0.503       0.784\n",
       "sales.L12      0.2957      0.071      4.139      0.000       0.156       0.436\n",
       "                                    Roots                                     \n",
       "==============================================================================\n",
       "                   Real          Imaginary           Modulus         Frequency\n",
       "------------------------------------------------------------------------------\n",
       "AR.1             1.0136           -0.0000j            1.0136           -0.0000\n",
       "AR.2             0.9322           -0.4728j            1.0452           -0.0747\n",
       "AR.3             0.9322           +0.4728j            1.0452            0.0747\n",
       "AR.4             0.6048           -0.9087j            1.0915           -0.1565\n",
       "AR.5             0.6048           +0.9087j            1.0915            0.1565\n",
       "AR.6             0.0603           -1.1224j            1.1240           -0.2415\n",
       "AR.7             0.0603           +1.1224j            1.1240            0.2415\n",
       "AR.8            -0.5346           -1.0120j            1.1445           -0.3273\n",
       "AR.9            -0.5346           +1.0120j            1.1445            0.3273\n",
       "AR.10           -1.1595           -0.0000j            1.1595           -0.5000\n",
       "AR.11           -0.9897           -0.5971j            1.1559           -0.4136\n",
       "AR.12           -0.9897           +0.5971j            1.1559            0.4136\n",
       "------------------------------------------------------------------------------\n",
       "\"\"\""
      ]
     },
     "execution_count": 3,
     "metadata": {},
     "output_type": "execute_result"
    }
   ],
   "source": [
    "#Fitting base line model with lag 1 and Lag 12\n",
    "AR_endo = AutoReg(endog=df['sales'], lags=[1,12]).fit()\n",
    "AR_endo.summary()"
   ]
  },
  {
   "cell_type": "markdown",
   "metadata": {},
   "source": [
    "### Overall Trends model"
   ]
  },
  {
   "cell_type": "markdown",
   "metadata": {},
   "source": [
    "The updated AR model contains exogenous data from google trends: suvs and insurance"
   ]
  },
  {
   "cell_type": "code",
   "execution_count": 4,
   "metadata": {},
   "outputs": [
    {
     "data": {
      "text/html": [
       "<table class=\"simpletable\">\n",
       "<caption>AutoReg Model Results</caption>\n",
       "<tr>\n",
       "  <th>Dep. Variable:</th>         <td>sales</td>        <th>  No. Observations:  </th>   <td>91</td>   \n",
       "</tr>\n",
       "<tr>\n",
       "  <th>Model:</th>         <td>Restr. AutoReg-X(12)</td> <th>  Log Likelihood     </th> <td>106.312</td>\n",
       "</tr>\n",
       "<tr>\n",
       "  <th>Method:</th>           <td>Conditional MLE</td>   <th>  S.D. of innovations</th>  <td>0.063</td> \n",
       "</tr>\n",
       "<tr>\n",
       "  <th>Date:</th>            <td>Fri, 06 Nov 2020</td>   <th>  AIC                </th> <td>-5.377</td> \n",
       "</tr>\n",
       "<tr>\n",
       "  <th>Time:</th>                <td>16:24:32</td>       <th>  BIC                </th> <td>-5.197</td> \n",
       "</tr>\n",
       "<tr>\n",
       "  <th>Sample:</th>             <td>01-01-2005</td>      <th>  HQIC               </th> <td>-5.305</td> \n",
       "</tr>\n",
       "<tr>\n",
       "  <th></th>                   <td>- 07-01-2011</td>     <th>                     </th>    <td> </td>   \n",
       "</tr>\n",
       "</table>\n",
       "<table class=\"simpletable\">\n",
       "<tr>\n",
       "      <td></td>         <th>coef</th>     <th>std err</th>      <th>z</th>      <th>P>|z|</th>  <th>[0.025</th>    <th>0.975]</th>  \n",
       "</tr>\n",
       "<tr>\n",
       "  <th>intercept</th> <td>   -0.4580</td> <td>    0.759</td> <td>   -0.603</td> <td> 0.546</td> <td>   -1.946</td> <td>    1.030</td>\n",
       "</tr>\n",
       "<tr>\n",
       "  <th>sales.L1</th>  <td>    0.6195</td> <td>    0.061</td> <td>   10.131</td> <td> 0.000</td> <td>    0.500</td> <td>    0.739</td>\n",
       "</tr>\n",
       "<tr>\n",
       "  <th>sales.L12</th> <td>    0.4287</td> <td>    0.063</td> <td>    6.777</td> <td> 0.000</td> <td>    0.305</td> <td>    0.553</td>\n",
       "</tr>\n",
       "<tr>\n",
       "  <th>suvs</th>      <td>    1.0572</td> <td>    0.161</td> <td>    6.546</td> <td> 0.000</td> <td>    0.741</td> <td>    1.374</td>\n",
       "</tr>\n",
       "<tr>\n",
       "  <th>insurance</th> <td>   -0.5297</td> <td>    0.147</td> <td>   -3.599</td> <td> 0.000</td> <td>   -0.818</td> <td>   -0.241</td>\n",
       "</tr>\n",
       "</table>\n",
       "<table class=\"simpletable\">\n",
       "<caption>Roots</caption>\n",
       "<tr>\n",
       "    <td></td>    <th>            Real</th>  <th>         Imaginary</th> <th>         Modulus</th>  <th>        Frequency</th>\n",
       "</tr>\n",
       "<tr>\n",
       "  <th>AR.1</th>  <td>           0.9913</td> <td>          -0.0000j</td> <td>           0.9913</td> <td>          -0.0000</td>\n",
       "</tr>\n",
       "<tr>\n",
       "  <th>AR.2</th>  <td>           0.9045</td> <td>          -0.4654j</td> <td>           1.0172</td> <td>          -0.0756</td>\n",
       "</tr>\n",
       "<tr>\n",
       "  <th>AR.3</th>  <td>           0.9045</td> <td>          +0.4654j</td> <td>           1.0172</td> <td>           0.0756</td>\n",
       "</tr>\n",
       "<tr>\n",
       "  <th>AR.4</th>  <td>           0.5820</td> <td>          -0.8833j</td> <td>           1.0578</td> <td>          -0.1573</td>\n",
       "</tr>\n",
       "<tr>\n",
       "  <th>AR.5</th>  <td>           0.5820</td> <td>          +0.8833j</td> <td>           1.0578</td> <td>           0.1573</td>\n",
       "</tr>\n",
       "<tr>\n",
       "  <th>AR.6</th>  <td>           0.0551</td> <td>          -1.0864j</td> <td>           1.0878</td> <td>          -0.2419</td>\n",
       "</tr>\n",
       "<tr>\n",
       "  <th>AR.7</th>  <td>           0.0551</td> <td>          +1.0864j</td> <td>           1.0878</td> <td>           0.2419</td>\n",
       "</tr>\n",
       "<tr>\n",
       "  <th>AR.8</th>  <td>          -0.5189</td> <td>          -0.9780j</td> <td>           1.1071</td> <td>          -0.3276</td>\n",
       "</tr>\n",
       "<tr>\n",
       "  <th>AR.9</th>  <td>          -0.5189</td> <td>          +0.9780j</td> <td>           1.1071</td> <td>           0.3276</td>\n",
       "</tr>\n",
       "<tr>\n",
       "  <th>AR.10</th> <td>          -1.1214</td> <td>          -0.0000j</td> <td>           1.1214</td> <td>          -0.5000</td>\n",
       "</tr>\n",
       "<tr>\n",
       "  <th>AR.11</th> <td>          -0.9577</td> <td>          -0.5766j</td> <td>           1.1179</td> <td>          -0.4137</td>\n",
       "</tr>\n",
       "<tr>\n",
       "  <th>AR.12</th> <td>          -0.9577</td> <td>          +0.5766j</td> <td>           1.1179</td> <td>           0.4137</td>\n",
       "</tr>\n",
       "</table>"
      ],
      "text/plain": [
       "<class 'statsmodels.iolib.summary.Summary'>\n",
       "\"\"\"\n",
       "                             AutoReg Model Results                              \n",
       "================================================================================\n",
       "Dep. Variable:                    sales   No. Observations:                   91\n",
       "Model:             Restr. AutoReg-X(12)   Log Likelihood                 106.312\n",
       "Method:                 Conditional MLE   S.D. of innovations              0.063\n",
       "Date:                  Fri, 06 Nov 2020   AIC                             -5.377\n",
       "Time:                          16:24:32   BIC                             -5.197\n",
       "Sample:                      01-01-2005   HQIC                            -5.305\n",
       "                           - 07-01-2011                                         \n",
       "==============================================================================\n",
       "                 coef    std err          z      P>|z|      [0.025      0.975]\n",
       "------------------------------------------------------------------------------\n",
       "intercept     -0.4580      0.759     -0.603      0.546      -1.946       1.030\n",
       "sales.L1       0.6195      0.061     10.131      0.000       0.500       0.739\n",
       "sales.L12      0.4287      0.063      6.777      0.000       0.305       0.553\n",
       "suvs           1.0572      0.161      6.546      0.000       0.741       1.374\n",
       "insurance     -0.5297      0.147     -3.599      0.000      -0.818      -0.241\n",
       "                                    Roots                                     \n",
       "==============================================================================\n",
       "                   Real          Imaginary           Modulus         Frequency\n",
       "------------------------------------------------------------------------------\n",
       "AR.1             0.9913           -0.0000j            0.9913           -0.0000\n",
       "AR.2             0.9045           -0.4654j            1.0172           -0.0756\n",
       "AR.3             0.9045           +0.4654j            1.0172            0.0756\n",
       "AR.4             0.5820           -0.8833j            1.0578           -0.1573\n",
       "AR.5             0.5820           +0.8833j            1.0578            0.1573\n",
       "AR.6             0.0551           -1.0864j            1.0878           -0.2419\n",
       "AR.7             0.0551           +1.0864j            1.0878            0.2419\n",
       "AR.8            -0.5189           -0.9780j            1.1071           -0.3276\n",
       "AR.9            -0.5189           +0.9780j            1.1071            0.3276\n",
       "AR.10           -1.1214           -0.0000j            1.1214           -0.5000\n",
       "AR.11           -0.9577           -0.5766j            1.1179           -0.4137\n",
       "AR.12           -0.9577           +0.5766j            1.1179            0.4137\n",
       "------------------------------------------------------------------------------\n",
       "\"\"\""
      ]
     },
     "execution_count": 4,
     "metadata": {},
     "output_type": "execute_result"
    }
   ],
   "source": [
    "# Fitting AR model with Trends data\n",
    "AR_endo_exo = AutoReg(endog=df[\"sales\"], lags=[1, 12], exog=df[[\"suvs\", \"insurance\"]]).fit()\n",
    "AR_endo_exo.summary()"
   ]
  },
  {
   "cell_type": "markdown",
   "metadata": {},
   "source": [
    "As we can, both the overall base and trends models result to exactly the same parameters shown in the paper."
   ]
  },
  {
   "cell_type": "markdown",
   "metadata": {},
   "source": [
    "## Rolling Out-of-sample model"
   ]
  },
  {
   "cell_type": "code",
   "execution_count": 5,
   "metadata": {},
   "outputs": [],
   "source": [
    "#Adding shift for outsample rolling predictions calculations\n",
    "from statsmodels.regression.rolling import RollingOLS\n",
    "df['sales_1']=df['sales'].shift(1)\n",
    "df['sales_12']=df['sales'].shift(12)\n",
    "df['intercept']=1\n",
    "\n",
    "#Functions calculating rolling AR out_sample predictions\n",
    "#Base Model\n",
    "def rolling_AR_endo(df, window):\n",
    "    results = []\n",
    "    regressor_names =  ['intercept','sales_1','sales_12']\n",
    "    for i in np.arange(window,len(df)):\n",
    "        df_training=df.iloc[0:i]\n",
    "        outsample=df.iloc[i]\n",
    "        result_fit = AutoReg(endog=df_training['sales'], lags=[1, 12]).fit()\n",
    "        result_pred = np.sum(np.array(result_fit.params)*np.array(outsample[regressor_names]))\n",
    "        results.append(result_pred)\n",
    "    return results\n",
    "#Trends model\n",
    "def rolling_AR_exo(df, window):\n",
    "    results=[]\n",
    "    regressor_names = ['intercept','sales_1','sales_12',\"suvs\", \"insurance\"]\n",
    "    exogenous_regressors=[\"suvs\", \"insurance\"]\n",
    "    \n",
    "    for i in np.arange(window, len(df)):\n",
    "        df_training=df.iloc[0:i]\n",
    "        outsample=df.iloc[i]\n",
    "        result_fit=AutoReg(endog=df_training['sales'], lags=[1, 12], exog=df_training[exogenous_regressors]).fit()\n",
    "        result_pred = np.sum(np.array(result_fit.params)*np.array(outsample[regressor_names]))\n",
    "        results.append(result_pred)\n",
    "    return results\n",
    "\n",
    "\n"
   ]
  },
  {
   "cell_type": "code",
   "execution_count": 6,
   "metadata": {},
   "outputs": [
    {
     "name": "stdout",
     "output_type": "stream",
     "text": [
      "MAE of the baseline model: 6.34%\n",
      "MAE of the trends model: 5.66%\n",
      "MAE improvement: 10.76%\n"
     ]
    }
   ],
   "source": [
    "#Outsample AutoReg for the base model\n",
    "df.loc[df.index >= \"2005-06-01\",'Baseline_Predictions'] = rolling_AR_endo(df, 17)\n",
    "\n",
    "#Autoreg cannot be fitted for the first iteration hence we use k=18 and replace the first prediction by the baseline\n",
    "df.loc[df.index >= \"2005-07-01\",'Trends_Predictions'] = rolling_AR_exo(df, 18)\n",
    "df.loc[\"2005-06-01\",'Trends_Predictions']=df.loc[\"2005-06-01\",'Baseline_Predictions']\n",
    "#Keeping only the dates where we have predictions\n",
    "df_results=df[df.index >= \"2005-06-01\"]\n",
    "\n",
    "#Calculating MAE\n",
    "baseline_mae = mean_absolute_error(df_results['sales'], df_results['Baseline_Predictions'])\n",
    "trends_mae = mean_absolute_error(df_results['sales'], df_results['Trends_Predictions'])\n",
    "improvement = (baseline_mae-trends_mae)/baseline_mae\n",
    "\n",
    "\n",
    "print(f\"MAE of the baseline model: {baseline_mae*100:.2f}%\")\n",
    "print(f\"MAE of the trends model: {trends_mae*100:.2f}%\")\n",
    "print(f\"MAE improvement: {improvement*100:.2f}%\")\n",
    "\n"
   ]
  },
  {
   "cell_type": "code",
   "execution_count": 7,
   "metadata": {},
   "outputs": [
    {
     "name": "stdout",
     "output_type": "stream",
     "text": [
      "MAE of the baseline model during recession: 8.87%\n",
      "MAE of the trends model during recession: 6.97%\n",
      "MAE improvement during recession: 21.5%\n"
     ]
    }
   ],
   "source": [
    "#keeping results only for recession period\n",
    "df_results_recession = df_results.loc[(df_results.index >= \"2007-12-01\") & (df_results.index <= \"2009-06-01\")]\n",
    "\n",
    "baseline_mae_recession = mean_absolute_error(df_results_recession['sales'], df_results_recession['Baseline_Predictions'])\n",
    "trends_mae_recession = mean_absolute_error(df_results_recession['sales'], df_results_recession['Trends_Predictions'])\n",
    "improvement_recession = (baseline_mae_recession-trends_mae_recession)/baseline_mae_recession\n",
    "\n",
    "print(f\"MAE of the baseline model during recession: {baseline_mae_recession*100:.2f}%\")\n",
    "print(f\"MAE of the trends model during recession: {trends_mae_recession*100:.2f}%\")\n",
    "print(f\"MAE improvement during recession: {improvement_recession*100:.1f}%\")\n",
    "\n",
    "\n"
   ]
  },
  {
   "cell_type": "code",
   "execution_count": 11,
   "metadata": {},
   "outputs": [
    {
     "data": {
      "text/plain": [
       "Text(0.02, 0.15, 'MAE improvement\\nOverall = 10.8%\\nDuring recession: 21.5%')"
      ]
     },
     "execution_count": 11,
     "metadata": {},
     "output_type": "execute_result"
    },
    {
     "data": {
      "image/png": "[encoded data removed]",
      "text/plain": [
       "<Figure size 864x504 with 1 Axes>"
      ]
     },
     "metadata": {
      "needs_background": "light"
     },
     "output_type": "display_data"
    }
   ],
   "source": [
    "paper_names = {'sales':'Actual','Baseline_Predictions':'Base', 'Trends_Predictions':'Trends'}\n",
    "df_results.rename(columns=paper_names,inplace=True)\n",
    "\n",
    "ax = df_results[['Actual','Base','Trends']].plot(figsize=(12,7), \n",
    "                                                 ylabel=\"log(mvp)\",xlabel=\"Index\",title=\"Motor Vehicles and Parts\", style='-.')\n",
    "\n",
    "textstr = '\\n'.join((\n",
    "    \"MAE improvement\",\n",
    "    f\"Overall = {improvement*100:.1f}%\",\n",
    "    f\"During recession: {improvement_recession*100:.1f}%\"))\n",
    "\n",
    "props = dict(boxstyle='round', facecolor='wheat', alpha=0.5)\n",
    "ax.text(0.02, 0.15, textstr, transform=ax.transAxes, fontsize=10,\n",
    "        verticalalignment='top', bbox=props)\n"
   ]
  },
  {
   "cell_type": "markdown",
   "metadata": {},
   "source": [
    "## Conclusion"
   ]
  },
  {
   "cell_type": "markdown",
   "metadata": {},
   "source": [
    "We were able to reproduce results that really close to he paper. The only difference resides when trying to fit out-of-sample Trends model. The AutoReg does not work for k=17 for the first iteration (too few datapoints to fit the model). We believe that the results are accurate and that the paper used a different package that allows fitting for k=17."
   ]
  }
 ],
 "metadata": {
  "kernelspec": {
   "display_name": "Python 3",
   "language": "python",
   "name": "python3"
  },
  "language_info": {
   "codemirror_mode": {
    "name": "ipython",
    "version": 3
   },
   "file_extension": ".py",
   "mimetype": "text/x-python",
   "name": "python",
   "nbconvert_exporter": "python",
   "pygments_lexer": "ipython3",
   "version": "3.7.4"
  }
 },
 "nbformat": 4,
 "nbformat_minor": 4
}
